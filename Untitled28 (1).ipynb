{
 "cells": [
  {
   "cell_type": "code",
   "execution_count": 2,
   "id": "efaec2ee-8879-499a-ae3a-bc592509773d",
   "metadata": {},
   "outputs": [
    {
     "name": "stdout",
     "output_type": "stream",
     "text": [
      "Name: John Doe\n",
      "Age: 30\n",
      "Address: 1234 Elm Street, Cityville, USA\n",
      "Phone No: 123-456-7890\n",
      "Email: johndoe@example.com\n",
      "CNIC: 12345-6789012-3\n"
     ]
    }
   ],
   "source": [
    "\n",
    "name = \"John Doe\"\n",
    "age = 30\n",
    "address = \"1234 Elm Street, Cityville, USA\"\n",
    "phone_no = \"123-456-7890\"\n",
    "email = \"johndoe@example.com\"\n",
    "cnic = \"12345-6789012-3\"\n",
    "\n",
    "print(\"Name:\", name)\n",
    "print(\"Age:\", age)\n",
    "print(\"Address:\", address)\n",
    "print(\"Phone No:\", phone_no)\n",
    "print(\"Email:\", email)\n",
    "print(\"CNIC:\", cnic)\n"
   ]
  },
  {
   "cell_type": "code",
   "execution_count": 3,
   "id": "c28636b1-2a91-4888-92fd-4e42f66745d6",
   "metadata": {},
   "outputs": [
    {
     "name": "stdin",
     "output_type": "stream",
     "text": [
      "Enter your SAP ID:  1881\n",
      "Enter your name:  bisma\n"
     ]
    },
    {
     "name": "stdout",
     "output_type": "stream",
     "text": [
      "Hey bisma, your SAP ID is 1881\n"
     ]
    }
   ],
   "source": [
    "\n",
    "sap_id = input(\"Enter your SAP ID: \")\n",
    "name = input(\"Enter your name: \")\n",
    "\n",
    "\n",
    "print(f\"Hey {name}, your SAP ID is {sap_id}\")\n"
   ]
  },
  {
   "cell_type": "code",
   "execution_count": 4,
   "id": "7f58c67c-c971-4b78-81e7-04649dd6d2fb",
   "metadata": {},
   "outputs": [
    {
     "name": "stdin",
     "output_type": "stream",
     "text": [
      "Enter your SAP ID:  33\n",
      "Enter your name:  bima Rafique\n"
     ]
    },
    {
     "name": "stdout",
     "output_type": "stream",
     "text": [
      "Hey bima Rafique, your SAP ID is 33\n"
     ]
    }
   ],
   "source": [
    "\n",
    "sap_id = input(\"Enter your SAP ID: \")\n",
    "name = input(\"Enter your name: \")\n",
    "\n",
    "print(f\"Hey {name}, your SAP ID is {sap_id}\")\n"
   ]
  },
  {
   "cell_type": "code",
   "execution_count": 5,
   "id": "24ccbd4f-ac92-4bf6-82ba-6680e2aa708b",
   "metadata": {},
   "outputs": [
    {
     "name": "stdout",
     "output_type": "stream",
     "text": [
      "After swapping:\n",
      "a = 10\n",
      "b = 5\n"
     ]
    }
   ],
   "source": [
    "\n",
    "a = 5\n",
    "b = 10\n",
    "\n",
    "a, b = b, a\n",
    "\n",
    "print(\"After swapping:\")\n",
    "print(\"a =\", a)\n",
    "print(\"b =\", b)\n"
   ]
  },
  {
   "cell_type": "code",
   "execution_count": 6,
   "id": "dc4f5264-987d-46db-97ce-b696ed58883f",
   "metadata": {},
   "outputs": [
    {
     "name": "stdout",
     "output_type": "stream",
     "text": [
      "False\n",
      "True\n",
      "True\n",
      "False\n",
      "True\n",
      "False\n"
     ]
    }
   ],
   "source": [
    "\n",
    "x = 7\n",
    "y = 5\n",
    "\n",
    "\n",
    "print(x == y)\n",
    "print(x != y)\n",
    "print(x > y)\n",
    "print(x < y)\n",
    "print(x >= y)\n",
    "print(x <= y)\n"
   ]
  },
  {
   "cell_type": "code",
   "execution_count": 7,
   "id": "7967d425-5916-4da7-afd9-47d1522922ad",
   "metadata": {},
   "outputs": [
    {
     "name": "stdout",
     "output_type": "stream",
     "text": [
      "Sum of numbers: 17\n"
     ]
    }
   ],
   "source": [
    "def sum_numbers(numbers):\n",
    "    return sum(numbers)\n",
    "\n",
    "sample_list = [7, 5, 3, 0, 2]\n",
    "print(\"Sum of numbers:\", sum_numbers(sample_list))\n"
   ]
  },
  {
   "cell_type": "code",
   "execution_count": 8,
   "id": "69493fcf-50cc-4f63-b762-97e8afc497c5",
   "metadata": {},
   "outputs": [
    {
     "name": "stdout",
     "output_type": "stream",
     "text": [
      "Student with roll number 102 is Present.\n"
     ]
    }
   ],
   "source": [
    "def check_presence(roll_number):\n",
    "    present_students = [101, 102, 103, 104, 105]\n",
    "    return \"Present\" if roll_number in present_students else \"Absent\"\n",
    "\n",
    "roll_number = 102\n",
    "print(f\"Student with roll number {roll_number} is {check_presence(roll_number)}.\")\n"
   ]
  },
  {
   "cell_type": "code",
   "execution_count": 9,
   "id": "d961bda5-22c5-4f89-a619-b260fa130684",
   "metadata": {},
   "outputs": [
    {
     "name": "stdout",
     "output_type": "stream",
     "text": [
      "Name: Alice\n",
      "Age: 25\n",
      "Updated Name: Bob\n",
      "Updated Age: 30\n"
     ]
    }
   ],
   "source": [
    "\n",
    "class Person:\n",
    "    def __init__(self, name, age):\n",
    "        self.name = name\n",
    "        self.age = age\n",
    "\n",
    "\n",
    "person1 = Person(\"Alice\", 25)\n",
    "\n",
    "# Access and print attributes\n",
    "print(\"Name:\", person1.name)\n",
    "print(\"Age:\", person1.age)\n",
    "\n",
    "\n",
    "person1.name = \"Bob\"\n",
    "person1.age = 30\n",
    "\n",
    "print(\"Updated Name:\", person1.name)\n",
    "print(\"Updated Age:\", person1.age)\n"
   ]
  },
  {
   "cell_type": "code",
   "execution_count": 10,
   "id": "710a5c04-8146-4c6c-8863-2a51647117b8",
   "metadata": {},
   "outputs": [
    {
     "name": "stdout",
     "output_type": "stream",
     "text": [
      "Car 1: Toyota Corolla 2020\n",
      "Car 2: Honda Civic 2019\n",
      "Car 3: Ford Mustang 2021\n"
     ]
    }
   ],
   "source": [
    "\n",
    "class Car:\n",
    "    def __init__(self, model, year):\n",
    "        self.model = model\n",
    "        self.year = year\n",
    "\n",
    "\n",
    "car1 = Car(\"Toyota Corolla\", 2020)\n",
    "car2 = Car(\"Honda Civic\", 2019)\n",
    "car3 = Car(\"Ford Mustang\", 2021)\n",
    "\n",
    "print(\"Car 1:\", car1.model, car1.year)\n",
    "print(\"Car 2:\", car2.model, car2.year)\n",
    "print(\"Car 3:\", car3.model, car3.year)\n"
   ]
  },
  {
   "cell_type": "code",
   "execution_count": 11,
   "id": "dc7c322b-65bb-493f-8f6f-a5614809f998",
   "metadata": {},
   "outputs": [
    {
     "name": "stdout",
     "output_type": "stream",
     "text": [
      "Name: Charlie\n",
      "Age: 20\n",
      "Grades: [85, 90, 78, 92]\n",
      "Average Grade: 86.25\n"
     ]
    }
   ],
   "source": [
    "\n",
    "class Student:\n",
    "    def __init__(self, name, age, grades):\n",
    "        self.name = name\n",
    "        self.age = age\n",
    "        self.grades = grades\n",
    "\n",
    "    def average_grade(self):\n",
    "        return sum(self.grades) / len(self.grades) if self.grades else 0\n",
    "\n",
    "student1 = Student(\"Charlie\", 20, [85, 90, 78, 92])\n",
    "\n",
    "print(\"Name:\", student1.name)\n",
    "print(\"Age:\", student1.age)\n",
    "print(\"Grades:\", student1.grades)\n",
    "\n",
    "print(\"Average Grade:\", student1.average_grade())\n"
   ]
  },
  {
   "cell_type": "code",
   "execution_count": 12,
   "id": "2847fc08-8bc7-4ec6-b4d0-d1ad7eaf299d",
   "metadata": {},
   "outputs": [
    {
     "name": "stdout",
     "output_type": "stream",
     "text": [
      "Boolean Array:\n",
      " [[ True False]\n",
      " [ True  True]]\n"
     ]
    }
   ],
   "source": [
    "//\n",
    "import numpy as np\n",
    "\n",
    "array_2d = np.array([[1.5, 0.0], [2.3, 3.7]], dtype=float)\n",
    "\n",
    "array_bool = array_2d.astype(bool)\n",
    "\n",
    "print(\"Boolean Array:\\n\", array_bool)\n"
   ]
  },
  {
   "cell_type": "code",
   "execution_count": 13,
   "id": "f166dd4d-edd0-4605-8dc6-e6e1f544d377",
   "metadata": {},
   "outputs": [
    {
     "name": "stdout",
     "output_type": "stream",
     "text": [
      "Updated Array: [10 20 55 30 40]\n"
     ]
    }
   ],
   "source": [
    "import numpy as np\n",
    "\n",
    "array = np.array([10, 20, 30, 40])\n",
    "\n",
    "array = np.insert(array, 2, 55)\n",
    "\n",
    "print(\"Updated Array:\", array)\n"
   ]
  },
  {
   "cell_type": "code",
   "execution_count": 14,
   "id": "5731ad7b-55c6-4d33-8b0c-a3fd26f54d6e",
   "metadata": {},
   "outputs": [
    {
     "name": "stdout",
     "output_type": "stream",
     "text": [
      "Generated Sequence: [  0   2   4   6   8  10  12  14  16  18  20  22  24  26  28  30  32  34\n",
      "  36  38  40  42  44  46  48  50  52  54  56  58  60  62  64  66  68  70\n",
      "  72  74  76  78  80  82  84  86  88  90  92  94  96  98 100]\n"
     ]
    }
   ],
   "source": [
    "import numpy as np\n",
    "\n",
    "sequence = np.arange(0, 101, 2)\n",
    "\n",
    "print(\"Generated Sequence:\", sequence)\n"
   ]
  },
  {
   "cell_type": "code",
   "execution_count": 15,
   "id": "59797756-9a1b-470d-92eb-858bb8f9560a",
   "metadata": {},
   "outputs": [
    {
     "name": "stdout",
     "output_type": "stream",
     "text": [
      "Result of Matrix Multiplication:\n",
      " [[19 22]\n",
      " [43 50]]\n"
     ]
    }
   ],
   "source": [
    "import numpy as np\n",
    "\n",
    "matrix1 = np.array([[1, 2], [3, 4]])\n",
    "matrix2 = np.array([[5, 6], [7, 8]])\n",
    "\n",
    "result = np.dot(matrix1, matrix2)\n",
    "\n",
    "print(\"Result of Matrix Multiplication:\\n\", result)\n"
   ]
  },
  {
   "cell_type": "code",
   "execution_count": 16,
   "id": "b958fc0d-97fc-41b1-bcda-2aaffb43f091",
   "metadata": {},
   "outputs": [
    {
     "name": "stdout",
     "output_type": "stream",
     "text": [
      "Is 5 present in the array? True\n"
     ]
    }
   ],
   "source": [
    "import numpy as np\n",
    "\n",
    "array_1d = np.array([1, 3, 5, 7, 9])\n",
    "\n",
    "number_to_check = 5\n",
    "\n",
    "is_present = number_to_check in array_1d\n",
    "\n",
    "print(f\"Is {number_to_check} present in the array?\", is_present)\n"
   ]
  },
  {
   "cell_type": "code",
   "execution_count": 17,
   "id": "d762ef11-9295-4596-bb75-e6760ce33f5c",
   "metadata": {},
   "outputs": [
    {
     "name": "stdout",
     "output_type": "stream",
     "text": [
      "Initial Environment State: {'A': 0, 'B': 1, 'C': 1, 'D': 1}\n",
      "Portion A is already clean.\n",
      "Portion B is dirty. Cleaning now...\n",
      "Portion B is now clean.\n",
      "Portion C is dirty. Cleaning now...\n",
      "Portion C is now clean.\n",
      "Portion D is dirty. Cleaning now...\n",
      "Portion D is now clean.\n",
      "Final Environment State: {'A': 0, 'B': 0, 'C': 0, 'D': 0}\n"
     ]
    }
   ],
   "source": [
    "//lab 6\n",
    "import random\n",
    "\n",
    "environment = {\n",
    "    \"A\": random.choice([0, 1]),\n",
    "    \"B\": random.choice([0, 1]),\n",
    "    \"C\": random.choice([0, 1]),\n",
    "    \"D\": random.choice([0, 1])\n",
    "}\n",
    "\n",
    "def vacuum_agent(environment):\n",
    "    for portion, state in environment.items():\n",
    "        if state == 1:\n",
    "            print(f\"Portion {portion} is dirty. Cleaning now...\")\n",
    "            environment[portion] = 0  # Clean the portion\n",
    "            print(f\"Portion {portion} is now clean.\")\n",
    "        else:\n",
    "            print(f\"Portion {portion} is already clean.\")\n",
    "\n",
    "print(\"Initial Environment State:\", environment)\n",
    "\n",
    "vacuum_agent(environment)\n",
    "\n",
    "print(\"Final Environment State:\", environment)\n"
   ]
  },
  {
   "cell_type": "code",
   "execution_count": null,
   "id": "73bd8599-d09a-4db7-ab98-1790e00952c7",
   "metadata": {},
   "outputs": [],
   "source": []
  },
  {
   "cell_type": "code",
   "execution_count": null,
   "id": "fe21aae9-672a-42f9-a972-5889ddd73f62",
   "metadata": {},
   "outputs": [],
   "source": []
  },
  {
   "cell_type": "code",
   "execution_count": null,
   "id": "9d19c736-fd60-452a-8191-01095f474892",
   "metadata": {},
   "outputs": [],
   "source": []
  },
  {
   "cell_type": "code",
   "execution_count": null,
   "id": "322ee16d-7826-42d1-bbee-f70a9a3b4e11",
   "metadata": {},
   "outputs": [],
   "source": []
  },
  {
   "cell_type": "code",
   "execution_count": null,
   "id": "b8dc4f70-905d-45e3-83a6-8513ad72d47e",
   "metadata": {},
   "outputs": [],
   "source": []
  }
 ],
 "metadata": {
  "kernelspec": {
   "display_name": "Python 3 (ipykernel)",
   "language": "python",
   "name": "python3"
  },
  "language_info": {
   "codemirror_mode": {
    "name": "ipython",
    "version": 3
   },
   "file_extension": ".py",
   "mimetype": "text/x-python",
   "name": "python",
   "nbconvert_exporter": "python",
   "pygments_lexer": "ipython3",
   "version": "3.11.7"
  }
 },
 "nbformat": 4,
 "nbformat_minor": 5
}
